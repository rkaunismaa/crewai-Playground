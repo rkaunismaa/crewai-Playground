{
 "cells": [
  {
   "cell_type": "markdown",
   "metadata": {},
   "source": [
    "Let's take FireCrawl for a test drive shall we ... Gonna start from [here](https://docs.firecrawl.dev/introduction)"
   ]
  },
  {
   "cell_type": "code",
   "execution_count": 1,
   "metadata": {},
   "outputs": [],
   "source": [
    "import os\n",
    "import pickle\n",
    "\n",
    "FIRECRAWL_API_KEY = os.environ['FIRECRAWL_API_KEY']"
   ]
  },
  {
   "cell_type": "code",
   "execution_count": null,
   "metadata": {},
   "outputs": [],
   "source": [
    "print(FIRECRAWL_API_KEY)"
   ]
  },
  {
   "cell_type": "code",
   "execution_count": 3,
   "metadata": {},
   "outputs": [],
   "source": [
    "from firecrawl import FirecrawlApp\n",
    "\n",
    "app = FirecrawlApp(api_key=FIRECRAWL_API_KEY)"
   ]
  },
  {
   "cell_type": "code",
   "execution_count": 4,
   "metadata": {},
   "outputs": [],
   "source": [
    "# Do we want to crawl a website or do we already have something saved?\n",
    "CRAWL_SITE = False\n",
    "crawl_File = 'FireCrawl_saved_dictionary.pkl'"
   ]
  },
  {
   "cell_type": "code",
   "execution_count": 5,
   "metadata": {},
   "outputs": [],
   "source": [
    "if CRAWL_SITE:\n",
    "  # Crawl a website:\n",
    "  crawl_status = app.crawl_url(\n",
    "    'https://firecrawl.dev', \n",
    "    params={\n",
    "      'limit': 100, \n",
    "      'scrapeOptions': {'formats': ['markdown', 'html']}\n",
    "    },\n",
    "    poll_interval=30\n",
    "  )\n",
    "  # 31.6 s\n",
    "\n",
    "else:\n",
    "  # Load a saved crawl:\n",
    "  with open(crawl_File, 'rb') as f:\n",
    "      crawl_status = pickle.load(f)"
   ]
  },
  {
   "cell_type": "code",
   "execution_count": null,
   "metadata": {},
   "outputs": [],
   "source": [
    "crawl_status"
   ]
  },
  {
   "cell_type": "markdown",
   "metadata": {},
   "source": [
    "Let's save this dictionary locally so that we can load it for future reference without having to re-run the crawl.\n",
    "\n",
    "Hmm and checking the firecrawl.dev/app site reveals this one call used up 61 credits."
   ]
  },
  {
   "cell_type": "code",
   "execution_count": 7,
   "metadata": {},
   "outputs": [],
   "source": [
    "if CRAWL_SITE:\n",
    "    with open(crawl_File, 'wb') as f:\n",
    "        pickle.dump(crawl_status, f)\n",
    "        "
   ]
  }
 ],
 "metadata": {
  "kernelspec": {
   "display_name": "crewai",
   "language": "python",
   "name": "python3"
  },
  "language_info": {
   "codemirror_mode": {
    "name": "ipython",
    "version": 3
   },
   "file_extension": ".py",
   "mimetype": "text/x-python",
   "name": "python",
   "nbconvert_exporter": "python",
   "pygments_lexer": "ipython3",
   "version": "3.11.10"
  }
 },
 "nbformat": 4,
 "nbformat_minor": 2
}
